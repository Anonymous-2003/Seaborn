{
 "cells": [
  {
   "cell_type": "code",
   "execution_count": null,
   "id": "e5acc4e8",
   "metadata": {},
   "outputs": [],
   "source": [
    "import pandas as pd\n",
    "import matplotlib.pyplot as plt\n",
    "import seaborn as sns\n",
    "plt.style.use('fivethirtyeight')"
   ]
  },
  {
   "cell_type": "code",
   "execution_count": null,
   "id": "1c24e4c6",
   "metadata": {},
   "outputs": [],
   "source": [
    "df = sns.load_dataset('tips') # to load built in dataframe in seaborn\n",
    "df.head()"
   ]
  },
  {
   "cell_type": "markdown",
   "id": "20cd9074",
   "metadata": {},
   "source": [
    "#### making scatterplot and countplot in seaborn"
   ]
  },
  {
   "cell_type": "code",
   "execution_count": null,
   "id": "1d29d6c5",
   "metadata": {},
   "outputs": [],
   "source": [
    "\n",
    "sns.scatterplot(x=\"total_bill\",y=\"tip\",data = df) \n",
    "plt.show()"
   ]
  },
  {
   "cell_type": "code",
   "execution_count": null,
   "id": "217418dc",
   "metadata": {},
   "outputs": [],
   "source": [
    "sns.countplot(x=\"sex\",data = df)\n",
    "plt.show()"
   ]
  },
  {
   "cell_type": "markdown",
   "id": "312c324e",
   "metadata": {},
   "source": [
    "### Using hue in plot\n"
   ]
  },
  {
   "cell_type": "code",
   "execution_count": null,
   "id": "90ddf333",
   "metadata": {},
   "outputs": [],
   "source": [
    "sns.scatterplot(x=\"total_bill\",y=\"tip\",data = df,hue = \"smoker\") \n",
    "plt.show()\n",
    "# we can change the legend of smokere as 'no' comes before 'yes' as ,\" hue_order = [\"no\",\"yes\"]\""
   ]
  },
  {
   "cell_type": "code",
   "execution_count": null,
   "id": "d823ccab",
   "metadata": {},
   "outputs": [],
   "source": [
    "sns.countplot(x=\"sex\",data = df, hue = \"smoker\")\n",
    "plt.show()"
   ]
  },
  {
   "cell_type": "code",
   "execution_count": null,
   "id": "88214aa7",
   "metadata": {},
   "outputs": [],
   "source": [
    "#specifyng hue colors\n",
    "\n",
    "hue_colors = {\"Yes\":\"black\",\n",
    "              \"No\":\"red\"}\n",
    "sns.scatterplot(x=\"total_bill\",y=\"tip\",data = df,hue = \"smoker\",palette=hue_colors) \n",
    "plt.show()"
   ]
  },
  {
   "cell_type": "markdown",
   "id": "fb8d077d",
   "metadata": {},
   "source": [
    "### Introducing relplot()\n",
    "\n",
    "To do this, we're going to introduce a new Seaborn function: \"relplot()\". \"relplot()\" stands for \"relational plot\" and enables you to visualize the relationship between two quantitative variables using either scatter plots or line plots. You've already seen scatter plots, and you'll learn about line plots later in this chapter. Using \"relplot()\" gives us a big advantage: the ability to create subplots in a single figure. Because of this advantage, we'll be using \"relplot()\" instead of \"scatterplot()\" for the rest of the course"
   ]
  },
  {
   "cell_type": "code",
   "execution_count": null,
   "id": "c637a6f0",
   "metadata": {},
   "outputs": [],
   "source": [
    "sns.relplot(x=\"total_bill\",y=\"tip\",data = df,kind = \"scatter\") \n"
   ]
  },
  {
   "cell_type": "markdown",
   "id": "93439709",
   "metadata": {},
   "source": [
    "###### Subplots in columns\n",
    "\n",
    "By setting \"col\" equal to \"smoker\", we get a separate scatter plot for smokers and non-smokers, arranged horizontally in columns"
   ]
  },
  {
   "cell_type": "code",
   "execution_count": null,
   "id": "484447c5",
   "metadata": {},
   "outputs": [],
   "source": [
    "sns.relplot(x=\"total_bill\",y=\"tip\",data = df,kind = \"scatter\",col = \"smoker\") \n"
   ]
  },
  {
   "cell_type": "markdown",
   "id": "6ac145ed",
   "metadata": {},
   "source": [
    "######  Subplots in rows\n",
    "\n",
    "If you want to arrange these vertically in rows instead, you can use the \"row\" parameter instead of \"col\"."
   ]
  },
  {
   "cell_type": "code",
   "execution_count": null,
   "id": "48df3e5a",
   "metadata": {},
   "outputs": [],
   "source": [
    "sns.relplot(x=\"total_bill\",y=\"tip\",data = df,kind = \"scatter\",row = \"smoker\") \n"
   ]
  },
  {
   "cell_type": "markdown",
   "id": "818d2a92",
   "metadata": {},
   "source": [
    "###### Subplots in rows and columns\n",
    "\n",
    "It is possible to use both \"col\" and \"row\" at the same time. Here, we set \"col\" equal to smoking status and \"row\" equal to the time of day (lunch or dinner). Now we have a subplot for each combination of these two categorical variables"
   ]
  },
  {
   "cell_type": "code",
   "execution_count": null,
   "id": "17a69f46",
   "metadata": {},
   "outputs": [],
   "source": [
    "sns.relplot(x=\"total_bill\",y=\"tip\",data = df,kind = \"scatter\",col = \"smoker\", row = \"time\") \n"
   ]
  },
  {
   "cell_type": "code",
   "execution_count": null,
   "id": "552f134e",
   "metadata": {
    "scrolled": true
   },
   "outputs": [],
   "source": [
    "# wrapping 4 columns in a row\n",
    "sns.relplot(x=\"total_bill\",y=\"tip\",data = df,kind = \"scatter\",col = \"day\", col_wrap=4) \n",
    "# we can also change the order of subplots using \"col_order\"\n",
    "sns.relplot(x=\"total_bill\",y=\"tip\",data = df,kind = \"scatter\",col = \"day\",col_wrap = 4,col_order=[\"sun\",\"sat\",\"thur\",\"fri\"]) \n",
    "plt.show(sns)"
   ]
  },
  {
   "cell_type": "markdown",
   "id": "3dab2f0f",
   "metadata": {},
   "source": [
    "### costumizing scatter plots"
   ]
  },
  {
   "cell_type": "markdown",
   "id": "825df773",
   "metadata": {},
   "source": [
    "Subgroups with point size\n",
    "\n",
    "We want each point on the scatter plot to be sized based on the number of people in the group, with larger groups having bigger points on the plot. To do this, we'll set the \"size\" parameter equal to the variable name \"size\" from our dataset. "
   ]
  },
  {
   "cell_type": "code",
   "execution_count": null,
   "id": "7a4f4e50",
   "metadata": {},
   "outputs": [],
   "source": [
    "sns.relplot(x=\"total_bill\",y=\"tip\",data = df,kind = \"scatter\",size = \"size\") \n"
   ]
  },
  {
   "cell_type": "markdown",
   "id": "dc946136",
   "metadata": {},
   "source": [
    "This plot is a bit hard to read because all of the points are of the same color."
   ]
  },
  {
   "cell_type": "markdown",
   "id": "f77510df",
   "metadata": {},
   "source": [
    "We can make it easier by using the \"size\" parameter in combination with the \"hue\" parameter. To do this, set \"hue\" equal to the variable name \"size\". Notice that because \"size\" is a quantitative variable, Seaborn will automatically color the points different shades of the same color instead of different colors per category value like we saw in previous plots. Now larger groups have both larger and darker points, which provides better contrast and makes the plot easier to read."
   ]
  },
  {
   "cell_type": "code",
   "execution_count": null,
   "id": "f375dd87",
   "metadata": {},
   "outputs": [],
   "source": [
    "sns.relplot(x=\"total_bill\",y=\"tip\",data = df,kind = \"scatter\",size = \"size\",hue = \"size\") \n"
   ]
  },
  {
   "cell_type": "code",
   "execution_count": null,
   "id": "cbda5fd0",
   "metadata": {},
   "outputs": [],
   "source": [
    "#changing point style and tarnsparency\n",
    "sns.relplot(x=\"total_bill\",y=\"tip\",data = df,kind = \"scatter\",hue = \"smoker\",style=\"smoker\",alpha = 0.6) \n",
    "#Setting the \"alpha\" parameter to a value between 0 and 1 will vary the transparency of the points in the plot, with 0 being completely transparent and 1 being completely non-transparent. "
   ]
  },
  {
   "cell_type": "code",
   "execution_count": null,
   "id": "f83a024d",
   "metadata": {},
   "outputs": [],
   "source": [
    "mpg = sns.load_dataset('mpg')\n",
    "mpg.head()"
   ]
  },
  {
   "cell_type": "markdown",
   "id": "32c09368",
   "metadata": {},
   "source": [
    "#### Introduction to line plots"
   ]
  },
  {
   "cell_type": "markdown",
   "id": "fad8463d",
   "metadata": {},
   "source": [
    "What are line plots?\n",
    "\n",
    "In Seaborn, we have two types of relational plots: scatter plots and line plots. While each point in a scatter plot is assumed to be an independent observation, line plots are the visualization of choice when we need to track the same thing over time"
   ]
  },
  {
   "cell_type": "code",
   "execution_count": null,
   "id": "5051b493",
   "metadata": {},
   "outputs": [],
   "source": [
    "import matplotlib.pyplot as plt\n",
    "import seaborn as sns\n",
    "sns.relplot(x=\"model_year\",y=\"mpg\",kind=\"line\",data=mpg)\n",
    "plt.show()"
   ]
  },
  {
   "cell_type": "markdown",
   "id": "1d87e5c4",
   "metadata": {},
   "source": [
    "The shaded area is confidence interval.It gives the mean of the whole plot across different countries "
   ]
  },
  {
   "cell_type": "markdown",
   "id": "4f0dc13a",
   "metadata": {},
   "source": [
    "Replacing confidence interval with standard deviation\n",
    "\n",
    "Instead of visualizing a confidence interval, we may want to see how varied the mpg are across the different origins at a given point in time. To visualize this, set the \"ci\" parameter equal to the string \"sd\" to make the shaded area represent the standard deviation.\n",
    "\n"
   ]
  },
  {
   "cell_type": "code",
   "execution_count": null,
   "id": "cfa63c4a",
   "metadata": {},
   "outputs": [],
   "source": [
    "sns.relplot(x=\"model_year\",y=\"mpg\",kind=\"line\",data=mpg,hue=\"origin\",style=\"origin\",markers=True,ci=None,dashes=False)\n",
    "# We can also turn off the confidence interval by setting the \"ci\" parameter equal to \"None\".\n",
    "# to remove dashed graph -> dashes = False\n",
    "# to enable marker->markers=True"
   ]
  },
  {
   "cell_type": "markdown",
   "id": "5369e85c",
   "metadata": {},
   "source": [
    "### categorical plots(count plot,bar plot,box plot)"
   ]
  },
  {
   "cell_type": "code",
   "execution_count": null,
   "id": "54b8c9b6",
   "metadata": {},
   "outputs": [],
   "source": [
    "survey_data = pd.read_csv('young-people-survey-responses.csv')\n",
    "student_data = pd.read_csv('student-alcohol-consumption.csv')"
   ]
  },
  {
   "cell_type": "code",
   "execution_count": null,
   "id": "d9db6800",
   "metadata": {},
   "outputs": [],
   "source": [
    "# creating count plot\n",
    "sns.catplot(x=\"Internet usage\",data = survey_data,kind = \"count\")\n",
    "plt.show()"
   ]
  },
  {
   "cell_type": "code",
   "execution_count": null,
   "id": "e5ab88e4",
   "metadata": {},
   "outputs": [],
   "source": [
    "#creating a bar plot\n",
    "sns.catplot(x=\"Gender\",y=\"Mathematics\",kind = \"bar\",data=survey_data)\n"
   ]
  },
  {
   "cell_type": "code",
   "execution_count": null,
   "id": "30f2422f",
   "metadata": {},
   "outputs": [],
   "source": [
    "# List of categories from lowest to highest\n",
    "category_order = [\"<2 hours\", \n",
    "                  \"2 to 5 hours\", \n",
    "                  \"5 to 10 hours\", \n",
    "                  \">10 hours\"]\n",
    "\n",
    "sns.catplot(x=\"study_time\", y=\"G3\",\n",
    "            data=student_data,\n",
    "            kind=\"bar\",\n",
    "            order=category_order, # changing the order of the plot\n",
    "            ci=None)\n",
    "\n",
    "plt.show()"
   ]
  },
  {
   "cell_type": "markdown",
   "id": "a652c69d",
   "metadata": {},
   "source": [
    "##### box plot"
   ]
  },
  {
   "cell_type": "code",
   "execution_count": null,
   "id": "7940bd79",
   "metadata": {},
   "outputs": [],
   "source": [
    "g=sns.catplot(x=\"time\",\n",
    "              y=\"total_bill\",\n",
    "              data = df,\n",
    "              kind = \"box\",\n",
    "              order = [\"Dinner\",\"Lunch\"],\n",
    "              \n",
    "             )"
   ]
  },
  {
   "cell_type": "code",
   "execution_count": null,
   "id": "447b7d01",
   "metadata": {},
   "outputs": [],
   "source": [
    "g=sns.catplot(x=\"time\",\n",
    "              y=\"total_bill\",\n",
    "              data = df,\n",
    "              kind = \"box\",\n",
    "              order = [\"Dinner\",\"Lunch\"],\n",
    "              sym=\"\" # to remove outlier from the box\n",
    "             )"
   ]
  },
  {
   "cell_type": "markdown",
   "id": "dc05ff4e",
   "metadata": {},
   "source": [
    "Changing the whiskers using `whis`\n",
    "\n",
    "By default, the whiskers extend to 1 point 5 times the interquartile range, or \"IQR\". The IQR is the 25th to the 75th percentile of a distribution of data. If you want to change the way the whiskers in your box plot are defined, you can do this using the \"whis\" parameter. There are several options for changing the whiskers. You can change the range of the whiskers from 1 point 5 times the IQR (which is the default) to 2 times the IQR by setting \"whis\" equal to 2 point 0. Alternatively, you can have the whiskers define specific lower and upper percentiles by passing in a list of the lower and upper values. In this example, passing in \"[5, 95]\" will result in the lower whisker being drawn at the 5th percentile and the upper whisker being drawn at the 95th percentile. Finally, you may just want to draw the whiskers at the min and max values. You can do this by specifying the lower percentile as 0 and the upper percentile as 100."
   ]
  },
  {
   "cell_type": "code",
   "execution_count": null,
   "id": "11eefdc9",
   "metadata": {},
   "outputs": [],
   "source": [
    "g=sns.catplot(x=\"time\",\n",
    "              y=\"total_bill\",\n",
    "              data = df,\n",
    "              kind = \"box\",\n",
    "              order = [\"Dinner\",\"Lunch\"],\n",
    "              sym=\"\" ,# to remove outlier from the box\n",
    "              whis = [0,100]\n",
    "             )"
   ]
  },
  {
   "cell_type": "markdown",
   "id": "b3b67196",
   "metadata": {},
   "source": [
    "#### point plots"
   ]
  },
  {
   "cell_type": "markdown",
   "id": "da231c92",
   "metadata": {},
   "source": [
    "What are point plots?\n",
    "\n",
    "Point plots show the mean of a quantitative variable for the observations in each category, plotted as a single point. This point plot uses the tips dataset and shows the average bill among smokers versus non-smokers. The vertical bars extending above and below the mean represent the 95% confidence intervals for that mean. Just like the confidence intervals we saw in line plots and bar plots, these confidence intervals show us the level of uncertainty we have about these mean estimates. Assuming our data is a random sample of some population, we can be 95% sure that the true population mean in each group lies within the confidence interval shown."
   ]
  },
  {
   "cell_type": "code",
   "execution_count": null,
   "id": "8efe35e0",
   "metadata": {},
   "outputs": [],
   "source": [
    "sns.catplot(x=\"smoker\",y=\"total_bill\",kind =\"point\",data = df)"
   ]
  },
  {
   "cell_type": "markdown",
   "id": "8ef54734",
   "metadata": {},
   "source": [
    "2. What are point plots?\n",
    "\n",
    "Point plots show the mean of a quantitative variable for the observations in each category, plotted as a single point. This point plot uses the tips dataset and shows the average bill among smokers versus non-smokers. The vertical bars extending above and below the mean represent the 95% confidence intervals for that mean. Just like the confidence intervals we saw in line plots and bar plots, these confidence intervals show us the level of uncertainty we have about these mean estimates. Assuming our data is a random sample of some population, we can be 95% sure that the true population mean in each group lies within the confidence interval shown.\n",
    "\n",
    "3. Point plots vs. line plots\n",
    "You may be thinking: point plots look a lot like line plots. What's the difference?\n",
    "\n",
    "4. Point plots vs. line plots\n",
    "\n",
    "Both line plots and point plots show the mean of a quantitative variable and 95% confidence intervals for the mean. However, there is a key difference. Line plots are relational plots, so both the x- and y-axis are quantitative variables. In a point plot, one axis - usually the x-axis - is a categorical variable, making it a categorical plot.\n",
    "\n",
    "5. Point plots vs. bar plots\n",
    "\n",
    "You may also be thinking: point plots seem to show the same information as bar plots. For each category, both show the mean of a quantitative variable and the confidence intervals for those means. When should we use one over the other? Let's look at an example using data from the masculinity survey that we've seen in prior lessons.\n",
    "\n",
    "6. Point plots vs. bar plots\n",
    "\n",
    "This is a bar plot of the percent of men per age group surveyed who report thinking that it's important that others see them as masculine, with subgroups based on whether they report feeling masculine or not. This is the same information, represented as a point plot. In the point plot, it's easier to compare the heights of the subgroup points when they're stacked above each other. In the point plot, it's also easier to look at the differences in slope between the categories than it is to compare the heights of the bars between them."
   ]
  },
  {
   "cell_type": "markdown",
   "id": "6f638857",
   "metadata": {},
   "source": [
    "### customizing seaborn plots "
   ]
  },
  {
   "cell_type": "code",
   "execution_count": null,
   "id": "87c39ab0",
   "metadata": {},
   "outputs": [],
   "source": [
    "# customizing figure style\n",
    "sns.set_style(\"whitegrid\") # other style are \"ticks\",\"dark\",\"darkgrid\"\n",
    "\n",
    "# setting palettes\n",
    "sns.set_palette(\"RdBu\")\n",
    "\n",
    "# we can use custom palettes as\n",
    "custom_palette = ['red','green'] # or we can use color hex codes\n",
    "sns.set_palette(custom_palette)\n",
    "\n",
    "# changing the scale : The scale option from smallest to largest are \"paper\", \"notebook\", \"talk\", and \"poster\"\n",
    "sns.set_context('notebook')\n",
    "\n",
    "sns.countplot(x=\"sex\",data = df)\n",
    "plt.show()"
   ]
  },
  {
   "cell_type": "markdown",
   "id": "10ca5416",
   "metadata": {},
   "source": [
    "###### adding title and labels\n",
    "\n",
    "Before we go into the details of adding a title, we need to understand an underlying mechanism in Seaborn. Seaborn's plot functions create two different types of objects: FacetGrids and AxesSubplots. "
   ]
  },
  {
   "cell_type": "markdown",
   "id": "9d2d4806",
   "metadata": {},
   "source": [
    "    object type       plot types                       characteristics                  how to add titles\n",
    "        \n",
    "    FacetGrids      relplot(),catplot()              can create subplots                 g.fig.suptitle()\n",
    "    Axesplots       scatterplot(),countplot(),etc    only creates a single plot          g.set_title()"
   ]
  },
  {
   "cell_type": "code",
   "execution_count": null,
   "id": "8944eadd",
   "metadata": {},
   "outputs": [],
   "source": [
    "\n",
    "category_order = [\"<2 hours\", \n",
    "                  \"2 to 5 hours\", \n",
    "                  \"5 to 10 hours\", \n",
    "                  \">10 hours\"]\n",
    "\n",
    "g=sns.catplot(x=\"study_time\", y=\"G3\",\n",
    "            data=student_data,\n",
    "            kind=\"bar\",\n",
    "            order=category_order, # changing the order of the plot\n",
    "            ci=None)\n",
    "# adding title to FacetGrid objects,\n",
    "#To add a title to a FacetGrid object, first assign the plot to the variable \"g\". After you assign the plot to \"g\", you can set the title using \"g dot fig dot suptitle\". This tells Seaborn you want to set a title for the figure as a whole.\n",
    "g.fig.suptitle(\"New Title\",\n",
    "              y = 1.05 # to adjust the height of the title\n",
    "              )\n",
    "\n",
    "# adding axis labels\n",
    "g.set(xlabel=\"Hello\",\n",
    "      ylabel=\"Namaste\")\n",
    "\n",
    "#rotating x-axis tick labels\n",
    "plt.xticks(rotation = 90)\n",
    "\n",
    "plt.show()"
   ]
  },
  {
   "cell_type": "code",
   "execution_count": null,
   "id": "4b3f8b0f",
   "metadata": {},
   "outputs": [],
   "source": []
  }
 ],
 "metadata": {
  "kernelspec": {
   "display_name": "Python 3 (ipykernel)",
   "language": "python",
   "name": "python3"
  },
  "language_info": {
   "codemirror_mode": {
    "name": "ipython",
    "version": 3
   },
   "file_extension": ".py",
   "mimetype": "text/x-python",
   "name": "python",
   "nbconvert_exporter": "python",
   "pygments_lexer": "ipython3",
   "version": "3.11.5"
  }
 },
 "nbformat": 4,
 "nbformat_minor": 5
}
